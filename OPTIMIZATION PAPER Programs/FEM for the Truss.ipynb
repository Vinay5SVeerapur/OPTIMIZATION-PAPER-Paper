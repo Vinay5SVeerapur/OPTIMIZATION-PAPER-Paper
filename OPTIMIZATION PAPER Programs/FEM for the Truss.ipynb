{
 "cells": [
  {
   "cell_type": "code",
   "execution_count": 10,
   "metadata": {
    "scrolled": false
   },
   "outputs": [
    {
     "name": "stdout",
     "output_type": "stream",
     "text": [
      "Enter the nodes: 4\n",
      "1\n",
      "X:0\n",
      "Y:0\n",
      "2\n",
      "X:0\n",
      "Y:3\n",
      "3\n",
      "X:2.121\n",
      "Y:2.121\n",
      "4\n",
      "X:3\n",
      "Y:0\n",
      "Enter the ELEMENTS: 3\n",
      "Enter the nodes one after the other corresponding to the element that is displayed\n",
      "\n",
      "\n",
      "ELEMENT NUMBER: 1\n",
      "Enter the NODE I:1\n",
      "Enter the NODE II:2\n"
     ]
    },
    {
     "name": "stderr",
     "output_type": "stream",
     "text": [
      "c:\\users\\vinay\\appdata\\local\\programs\\python\\python37-32\\lib\\site-packages\\ipykernel_launcher.py:30: RuntimeWarning: divide by zero encountered in double_scalars\n"
     ]
    },
    {
     "name": "stdout",
     "output_type": "stream",
     "text": [
      "\n",
      "\n",
      "ELEMENT NUMBER: 2\n",
      "Enter the NODE I:1\n",
      "Enter the NODE II:3\n",
      "\n",
      "\n",
      "ELEMENT NUMBER: 3\n",
      "Enter the NODE I:1\n",
      "Enter the NODE II:4\n",
      "Element: 1.0 node connection: 1.0 2.0 Angle: 90.0 L: 3.0\n",
      "Element: 2.0 node connection: 1.0 3.0 Angle: 45.0 L: 2.9995469657933347\n",
      "Element: 3.0 node connection: 1.0 4.0 Angle: 0.0 L: 3.0\n",
      "Enter the Total number of nodes where Point loads are applied:1\n",
      "Enter the Node numbers where Load is applied one by one:1\n",
      "\n",
      "\n",
      "Force Input at Node:  1.0\n",
      "enter the X force in the Node:-10000\n",
      "enter the Y force in the Node:-20000\n",
      "[[42002114.479 14002114.479]\n",
      " [14002114.479 42002114.479]]\n",
      "[[-10000.]\n",
      " [-20000.]]\n",
      "[[-8.92654880e-05]\n",
      " [-4.46408345e-04]]\n"
     ]
    }
   ],
   "source": [
    "import numpy as np\n",
    "import math\n",
    "from numpy.linalg import inv\n",
    "np.set_printoptions(threshold=np.inf)\n",
    "area=4e-4\n",
    "E=2.1e11\n",
    "nodes=int(input(\"Enter the nodes: \"))\n",
    "\n",
    "GLOBAL=np.zeros((nodes*2,nodes*2))\n",
    "add=np.zeros((nodes*2,nodes*2))\n",
    "joints=np.zeros((nodes,3))\n",
    "for i in range(nodes):\n",
    "    print(i+1)\n",
    "    joints[i][0]=i+1    #the joint number\n",
    "    joints[i][1]=input(\"X:\")\n",
    "    joints[i][2]=input(\"Y:\")\n",
    "\n",
    "ELEMENT=int(input(\"Enter the ELEMENTS: \"))\n",
    "element=np.zeros((ELEMENT,9))\n",
    "print(\"Enter the nodes one after the other corresponding to the element that is displayed\")\n",
    "for j in range(ELEMENT):\n",
    "    print(\"\\n\")\n",
    "    print(\"ELEMENT NUMBER:\",j+1)\n",
    "    element[j][0]=j+1\n",
    "    element[j][1]=input(\"Enter the NODE I:\")\n",
    "    element[j][2]=input(\"Enter the NODE II:\")\n",
    "    #element[j][3]=input(\"Enter the angle   :\")\n",
    "    #element[j][3]=math.radians(element[j][3])\n",
    "    try:\n",
    "        element[j][3]=np.arctan((joints[int(element[j][2]-1)][2]-joints[int(element[j][1]-1)][2])/(joints[int(element[j][2]-1)][1]-joints[int(element[j][1]-1)][1]))\n",
    "    except:\n",
    "        element[j][3]=np.tan(90)\n",
    "    element[j][4]=joints[int(element[j][1]-1)][1]\n",
    "    element[j][5]=joints[int(element[j][1]-1)][2]\n",
    "    element[j][6]=joints[int(element[j][2]-1)][1]\n",
    "    element[j][7]=joints[int(element[j][2]-1)][2]\n",
    "    element[j][8]=((element[j][4]-element[j][6])**2+(element[j][5]-element[j][7])**2)**0.5\n",
    "\n",
    "\n",
    "small=np.zeros((2,2))\n",
    "\n",
    "#print(element)\n",
    "\n",
    "for i in range(ELEMENT):\n",
    "    print(\"Element:\",element[i][0],\"node connection:\",element[i][1],element[i][2],\"Angle:\",np.degrees(element[i][3]),\"L:\",element[i][8])\n",
    "    small[0][0]=round((np.cos(element[i][3])**2)*area*E/element[i][8],3)\n",
    "    small[0][1]=round(np.cos(element[i][3])*np.sin(element[i][3])*area*E/element[i][8],3)\n",
    "    small[1][0]=round(np.cos(element[i][3])*np.sin(element[i][3])*area*E/element[i][8],3)\n",
    "    small[1][1]=round((np.sin(element[i][3])**2)*area*E/element[i][8],3)\n",
    "    #print(small)\n",
    "    #print(area*E/element[i][8])\n",
    "    for x in range(nodes*2):\n",
    "        for y in range(nodes*2):\n",
    "            if(x==2*(element[i][1]-1) and y==2*(element[i][1]-1)):\n",
    "                add[x][y]=small[0][0]\n",
    "                add[x][y+1]=small[0][1]\n",
    "                add[x+1][y]=small[1][0]\n",
    "                add[x+1][y+1]=small[1][1]\n",
    "            if(x==2*(element[i][2]-1) and y==2*(element[i][2]-1)):\n",
    "                add[x][y]=small[0][0]\n",
    "                add[x][y+1]=small[0][1]\n",
    "                add[x+1][y]=small[1][0]\n",
    "                add[x+1][y+1]=small[1][1]\n",
    "            if(x==2*(element[i][1]-1) and y==2*(element[i][2]-1)):\n",
    "                add[x][y]=-small[0][0]\n",
    "                add[x][y+1]=-small[0][1]\n",
    "                add[x+1][y]=-small[1][0]\n",
    "                add[x+1][y+1]=-small[1][1]\n",
    "            if(x==2*(element[i][2]-1) and y==2*(element[i][1]-1)):\n",
    "                add[x][y]=-small[0][0]\n",
    "                add[x][y+1]=-small[0][1]\n",
    "                add[x+1][y]=-small[1][0]\n",
    "                add[x+1][y+1]=-small[1][1]\n",
    "    #print(add)\n",
    "    GLOBAL=GLOBAL+add\n",
    "    add.fill(0)\n",
    "    small.fill(0)\n",
    "#print(GLOBAL)\n",
    "Forces=np.zeros((nodes*2,1))\n",
    "vi=int(input(\"Enter the Total number of nodes where Point loads are applied:\"))\n",
    "ForceNodenumbers=np.zeros((vi))\n",
    "for i in range(vi):\n",
    "    ForceNodenumbers[i]=int(input(\"Enter the Node numbers where Load is applied one by one:\"))\n",
    "for i in range(vi):\n",
    "    print(\"\\n\")\n",
    "    print(\"Force Input at Node: \",ForceNodenumbers[i])\n",
    "    Forces[int(2*(ForceNodenumbers[i]-1))][0]=float(input(\"enter the X force in the Node:\"))\n",
    "    Forces[int((2*(ForceNodenumbers[i]-1))+1)][0]=float(input(\"enter the Y force in the Node:\"))\n",
    "\n",
    "GLOBAL=np.delete(GLOBAL, (7),axis=0)\n",
    "GLOBAL=np.delete(GLOBAL, (6),axis=0)\n",
    "\n",
    "GLOBAL=np.delete(GLOBAL, (5),axis=0)\n",
    "GLOBAL=np.delete(GLOBAL, (4),axis=0)\n",
    "\n",
    "GLOBAL=np.delete(GLOBAL, (3),axis=0)\n",
    "GLOBAL=np.delete(GLOBAL, (2),axis=0)\n",
    "\n",
    "\n",
    "GLOBAL=np.delete(GLOBAL, (7),axis=1)\n",
    "GLOBAL=np.delete(GLOBAL, (6),axis=1)\n",
    "\n",
    "GLOBAL=np.delete(GLOBAL, (5),axis=1)\n",
    "GLOBAL=np.delete(GLOBAL, (4),axis=1)\n",
    "\n",
    "GLOBAL=np.delete(GLOBAL, (3),axis=1)\n",
    "GLOBAL=np.delete(GLOBAL, (2),axis=1)\n",
    "\n",
    "Forces=np.delete(Forces, (7),axis=0)\n",
    "Forces=np.delete(Forces, (6),axis=0)\n",
    "Forces=np.delete(Forces, (5),axis=0)\n",
    "Forces=np.delete(Forces, (4),axis=0)\n",
    "Forces=np.delete(Forces, (3),axis=0)\n",
    "Forces=np.delete(Forces, (2),axis=0)\n",
    "print(GLOBAL)\n",
    "print(Forces)\n",
    "print(np.dot(inv(GLOBAL),Forces))"
   ]
  },
  {
   "cell_type": "code",
   "execution_count": 2,
   "metadata": {},
   "outputs": [
    {
     "name": "stdout",
     "output_type": "stream",
     "text": [
      "1.0\n",
      "[[1.         1.         2.         1.57079633 0.         0.\n",
      "  0.         3.         3.        ]\n",
      " [2.         1.         3.         0.78539816 0.         0.\n",
      "  2.121      2.121      2.99954697]\n",
      " [3.         1.         4.         0.         0.         0.\n",
      "  3.         0.         3.        ]]\n"
     ]
    }
   ],
   "source": [
    "import math\n",
    "print(np.sin(math.radians(90)))\n",
    "print(element)"
   ]
  },
  {
   "cell_type": "code",
   "execution_count": 3,
   "metadata": {},
   "outputs": [
    {
     "name": "stdout",
     "output_type": "stream",
     "text": [
      "[[0. 0.]\n",
      " [0. 1.]]\n",
      "[[0.5 0.5]\n",
      " [0.5 0.5]]\n",
      "[[1. 0.]\n",
      " [0. 0.]]\n"
     ]
    }
   ],
   "source": [
    "element[0][3]=np.radians(90)\n",
    "for i in range(ELEMENT):\n",
    "    small[0][0]=round((np.cos(element[i][3])**2),3)\n",
    "    small[0][1]=round(np.cos(element[i][3])*np.sin(element[i][3]),3)\n",
    "    small[1][0]=round(np.cos(element[i][3])*np.sin(element[i][3]),3)\n",
    "    small[1][1]=round((np.sin(element[i][3])**2),3)\n",
    "    print(small)"
   ]
  },
  {
   "cell_type": "code",
   "execution_count": 8,
   "metadata": {},
   "outputs": [
    {
     "name": "stdout",
     "output_type": "stream",
     "text": [
      "45.0\n",
      "0.7853981633974483\n"
     ]
    }
   ],
   "source": [
    "print(np.degrees((np.arctan(1))))\n",
    "print(np.radians(45))"
   ]
  },
  {
   "cell_type": "code",
   "execution_count": 5,
   "metadata": {},
   "outputs": [
    {
     "name": "stdout",
     "output_type": "stream",
     "text": [
      "[[-10000.]\n",
      " [-20000.]\n",
      " [     0.]\n",
      " [     0.]\n",
      " [     0.]\n",
      " [     0.]\n",
      " [     0.]\n",
      " [     0.]]\n"
     ]
    }
   ],
   "source": [
    "print(Forces)"
   ]
  }
 ],
 "metadata": {
  "kernelspec": {
   "display_name": "Python 3",
   "language": "python",
   "name": "python3"
  },
  "language_info": {
   "codemirror_mode": {
    "name": "ipython",
    "version": 3
   },
   "file_extension": ".py",
   "mimetype": "text/x-python",
   "name": "python",
   "nbconvert_exporter": "python",
   "pygments_lexer": "ipython3",
   "version": "3.7.4"
  }
 },
 "nbformat": 4,
 "nbformat_minor": 2
}
